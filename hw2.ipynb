{
 "cells": [
  {
   "cell_type": "markdown",
   "id": "92be8570",
   "metadata": {},
   "source": [
    "# ДЗ-2 по Теории и практике онлайн экспериментов\n"
   ]
  },
  {
   "cell_type": "markdown",
   "id": "c8f81b9e",
   "metadata": {},
   "source": [
    "Данные лежат на диске: https://disk.yandex.ru/d/9EcCqk-1CUyiCA"
   ]
  },
  {
   "cell_type": "markdown",
   "id": "2f15c6a1",
   "metadata": {},
   "source": [
    "### Задание 1 (4 балла)\n",
    "\n",
    "Представим, что у нас есть сервис для продажи некоторых товаров (например, мыла). Мы выкатываем новые фичи и проводим тесты, а затем сохраняем логи каждого теста в следующем формате:\n",
    "\n",
    "- `user_id` - уникальный id посетителя сайта\n",
    "- `dt` - дата события\n",
    "- `event` - название события\n",
    "- `group` - группа, в которую попал пользователь (распределение может происходить на разных этапах воронки для разных тестов - например, при первом посещении или при первом добавлении в корзину)\n",
    "- `visit_id` - уникальный id визита\n",
    "- `cart_id` - уникальный id корзины\n",
    "- amount - текущая сумма корзины\n",
    "- `num_items` - текущее количество товаров в корзине\n"
   ]
  },
  {
   "cell_type": "markdown",
   "id": "e846e98b",
   "metadata": {},
   "source": [
    "1. Обратимся к метрике **average revenue per paying user**. Вам даны две очень похожие группы (файл `aa_test_logs.pkl`). \n",
    "\n",
    "- Постройте распределение p-value для теста на равенство средних между группами.\n",
    "- Найдите, на каком уровне искусственно добавленного эффекта средняя выручка в группах станет различима. Ошибку первого рода считайте заданной и равной 0.05, ошибку 2-го рода равной 0.2."
   ]
  },
  {
   "cell_type": "markdown",
   "id": "47ead6c6",
   "metadata": {},
   "source": [
    "2. На данных `aa_test_logs.pkl` сравните мощность линеаризации, бутстрапа, бакетизации и дельта-метода для метрики **среднего чека**. Какой метод получился наиболее мощным? Как вы думаете, почему?"
   ]
  },
  {
   "cell_type": "markdown",
   "id": "9e50e1aa-da1c-47d6-9b77-00a6d50c37d8",
   "metadata": {},
   "source": [
    "3. Мы сделали рекомендательную систему, которая после добавления товара в корзину предлагает добавить похожие или комплементарные. Логи проведенного теста сохранены в файле `ab_test_logs.pkl`. \n",
    "\n",
    "- Проверьте гипотезу о том, что это изменение значимо повлияло на ARPPU наших power users (95%-й процентиль).\n",
    "- Проверьте гипотезу о том, что это изменение значимо повлияло на ARPPU всех юзеров."
   ]
  },
  {
   "cell_type": "markdown",
   "id": "12ba28c4",
   "metadata": {},
   "source": [
    "### Задание 2 (1 балл)\n",
    "\n",
    "В приложенном файле `sleep.csv` приведено время засыпания одного и того же человека в разные дни.\n",
    "\n",
    "Нужно обработать эти данные и указать такое время суток (с точностью до минуты), после которого с вероятностью 0.9 этот человек уже спит.\n",
    "\n",
    "Как можно оценить стандартное отклонение этой точечной оценки?"
   ]
  },
  {
   "cell_type": "markdown",
   "id": "fc9a9f35",
   "metadata": {},
   "source": [
    "### Задание 3. CUPED (1 балла)\n",
    "\n",
    "Cгенерируем выборку из $1000$ сэмплов экспоненциального распределения - это будут значения нашей метрики для $1000$ пользователей"
   ]
  },
  {
   "cell_type": "code",
   "execution_count": 25,
   "id": "dbdcded4",
   "metadata": {},
   "outputs": [],
   "source": [
    "import numpy as np\n",
    "import pandas as pd\n",
    "from matplotlib import pyplot as plt\n",
    "from scipy import stats\n",
    "from tqdm import tqdm"
   ]
  },
  {
   "cell_type": "code",
   "execution_count": 26,
   "id": "e6eae979",
   "metadata": {},
   "outputs": [],
   "source": [
    "control_before = stats.expon(scale=1000).rvs(1000)"
   ]
  },
  {
   "cell_type": "code",
   "execution_count": 27,
   "id": "6ff3e743",
   "metadata": {},
   "outputs": [
    {
     "data": {
      "image/png": "[encoded data removed]",
      "text/plain": [
       "<Figure size 640x480 with 1 Axes>"
      ]
     },
     "metadata": {},
     "output_type": "display_data"
    }
   ],
   "source": [
    "plt.hist(control_before, bins=100)\n",
    "plt.show()"
   ]
  },
  {
   "cell_type": "markdown",
   "id": "bae626a4",
   "metadata": {},
   "source": [
    "Предположим, что при наблюдении метрики в дальнейшем добавляется какой-то нормальный шум"
   ]
  },
  {
   "cell_type": "code",
   "execution_count": 28,
   "id": "27979637",
   "metadata": {},
   "outputs": [],
   "source": [
    "control = control_before + stats.norm(loc=0, scale=100).rvs(1000)"
   ]
  },
  {
   "cell_type": "code",
   "execution_count": 29,
   "id": "b1703c2a",
   "metadata": {},
   "outputs": [
    {
     "data": {
      "image/png": "[encoded data removed]",
      "text/plain": [
       "<Figure size 640x480 with 1 Axes>"
      ]
     },
     "metadata": {},
     "output_type": "display_data"
    }
   ],
   "source": [
    "plt.hist(control, bins=100)\n",
    "plt.show()"
   ]
  },
  {
   "cell_type": "markdown",
   "id": "ac7a825b",
   "metadata": {},
   "source": [
    "Теперь построим доверительный интервал для среднего значения нашей метрики и посмотрим, появилась ли стат значимая разница. Проведем такой эксперимент $10000$ раз"
   ]
  },
  {
   "cell_type": "code",
   "execution_count": 30,
   "id": "97449272",
   "metadata": {},
   "outputs": [
    {
     "data": {
      "text/plain": [
       "array([880.80593161, 996.1879594 ])"
      ]
     },
     "execution_count": 30,
     "metadata": {},
     "output_type": "execute_result"
    }
   ],
   "source": [
    "stats.norm(loc=control.mean(), scale=control.std() / np.sqrt(len(control))).ppf(\n",
    "    [0.025, 0.975]\n",
    ")"
   ]
  },
  {
   "cell_type": "code",
   "execution_count": 31,
   "id": "b9c3472b",
   "metadata": {},
   "outputs": [
    {
     "name": "stderr",
     "output_type": "stream",
     "text": [
      "100%|██████████| 10000/10000 [00:09<00:00, 1084.26it/s]"
     ]
    },
    {
     "name": "stdout",
     "output_type": "stream",
     "text": [
      "Стат значимая разница есть в 4.95% случаев;\n"
     ]
    },
    {
     "name": "stderr",
     "output_type": "stream",
     "text": [
      "\n"
     ]
    }
   ],
   "source": [
    "bad_cnt = 0\n",
    "\n",
    "N = 10000\n",
    "for i in tqdm(range(N)):\n",
    "    control_before = stats.expon(scale=1000).rvs(1000)\n",
    "    control = control_before + stats.norm(loc=0, scale=100).rvs(1000)\n",
    "    left_bound, right_bound = stats.norm(\n",
    "        loc=control.mean(), scale=control.std() / np.sqrt(len(control))\n",
    "    ).ppf([0.025, 0.975])\n",
    "\n",
    "    if left_bound > 1000 or right_bound < 1000:\n",
    "        bad_cnt += 1\n",
    "\n",
    "print(f\"Стат значимая разница есть в {round(bad_cnt / N, 4) * 100}% случаев;\")"
   ]
  },
  {
   "cell_type": "markdown",
   "id": "ee39dc74",
   "metadata": {},
   "source": [
    "Как мы видим такой тест ошибается в около $5$% случаев, так как находит разницу в среднем. Ваша задача построить CUPED-метрику основываясь на данной метрике и провести аналогичный тест"
   ]
  },
  {
   "cell_type": "code",
   "execution_count": 32,
   "id": "f5389957",
   "metadata": {},
   "outputs": [
    {
     "name": "stderr",
     "output_type": "stream",
     "text": [
      "100%|██████████| 10000/10000 [00:09<00:00, 1082.31it/s]"
     ]
    },
    {
     "name": "stdout",
     "output_type": "stream",
     "text": [
      "Стат значимая разница есть в  84.84% случаев;\n"
     ]
    },
    {
     "name": "stderr",
     "output_type": "stream",
     "text": [
      "\n"
     ]
    }
   ],
   "source": [
    "bad_cnt = 0\n",
    "\n",
    "N = 10000\n",
    "for i in tqdm(range(N)):\n",
    "    control_before = stats.expon(scale=1000).rvs(1000)\n",
    "    control = control_before + stats.norm(loc=0, scale=100).rvs(1000)\n",
    "\n",
    "    # Вычисляем CUPED\n",
    "    theta = np.cov(control, control_before)[0,1] / np.var(control_before)\n",
    "    cuped_metric = control - theta * (control_before - control_before.mean())\n",
    "    \n",
    "    mean = cuped_metric.mean()\n",
    "    std = cuped_metric.std() / np.sqrt(len(cuped_metric))\n",
    "    left_bound, right_bound = stats.norm(loc=mean, scale=std).ppf([0.025, 0.975])\n",
    "\n",
    "    if left_bound > 1000 or right_bound < 1000:\n",
    "        bad_cnt += 1\n",
    "\n",
    "print(f\"Стат значимая разница есть в  {round(bad_cnt / N, 4) * 100}% случаев;\")"
   ]
  },
  {
   "cell_type": "markdown",
   "id": "b81934f6",
   "metadata": {},
   "source": [
    "Результат должен получиться не очень хороший. Давайте теперь сделаем иначе: сгенерируем выборку из $10000$ значений, а затем выберем $2$ группы по $1000$ юзеров, которые будут нашими группами для теста. Опять добавим шум в обе группы аналогично тому, что показано в первом примере с теми же параметрами. Ваша задача вписать CUPED метрики используя знание обо всех $10000$ юзерах."
   ]
  },
  {
   "cell_type": "code",
   "execution_count": 33,
   "id": "bd70100a",
   "metadata": {},
   "outputs": [
    {
     "name": "stderr",
     "output_type": "stream",
     "text": [
      "  0%|          | 19/10000 [00:00<00:53, 184.85it/s]"
     ]
    },
    {
     "name": "stdout",
     "output_type": "stream",
     "text": [
      "Theta value: -0.010090474142879089\n",
      "Correlation between pre and post: -0.010078040283187196\n",
      "Original variance A: 1140166.9171090112\n",
      "Original variance B: 997082.7439597017\n",
      "CUPED variance A: 1163261.6677286138\n",
      "CUPED variance B: 1017296.4114804664\n",
      "Variance reduction ratio: 1.0203\n"
     ]
    },
    {
     "name": "stderr",
     "output_type": "stream",
     "text": [
      "100%|██████████| 10000/10000 [00:54<00:00, 183.01it/s]"
     ]
    },
    {
     "name": "stdout",
     "output_type": "stream",
     "text": [
      "Стат значимая разница без CUPED есть в 4.84% случаев;\n",
      "Стат значимая разница с CUPED есть в 4.8500000000000005% случаев;\n"
     ]
    },
    {
     "name": "stderr",
     "output_type": "stream",
     "text": [
      "\n"
     ]
    }
   ],
   "source": [
    "bad_cnt = 0\n",
    "bad_cnt_original = 0\n",
    "\n",
    "N = 10000\n",
    "for i in tqdm(range(N)):\n",
    "    control_before_full = stats.expon(scale=1000).rvs(1000 * 10)\n",
    "    samples_in_ab = 2000\n",
    "    indexes_to_take_a = np.random.choice(\n",
    "        range(samples_in_ab), samples_in_ab // 2, False\n",
    "    )\n",
    "    indexes_to_take_b = [x for x in range(samples_in_ab) if x not in indexes_to_take_a]\n",
    "\n",
    "    control_before_a = control_before_full[indexes_to_take_a]\n",
    "    control_before_b = control_before_full[indexes_to_take_b]\n",
    "\n",
    "    # Уменьшаем масштаб шума для увеличения корреляции\n",
    "    control_after_a = control_before_a + stats.norm(loc=0, scale=20).rvs(\n",
    "        samples_in_ab // 2\n",
    "    )\n",
    "    control_after_b = control_before_b + stats.norm(loc=0, scale=20).rvs(\n",
    "        samples_in_ab // 2\n",
    "    )\n",
    "\n",
    "    # Вычисляем CUPED\n",
    "    theta = np.cov(np.concatenate([control_after_a, control_after_b]), \n",
    "                  control_before_full[:samples_in_ab])[0,1] / np.var(control_before_full[:samples_in_ab])\n",
    "    \n",
    "    control_cup_a = control_after_a - theta * (control_before_a - control_before_full[:samples_in_ab].mean())\n",
    "    control_cup_b = control_after_b - theta * (control_before_b - control_before_full[:samples_in_ab].mean())\n",
    "\n",
    "    # Тест без CUPED\n",
    "    if stats.ttest_ind(control_after_a, control_after_b).pvalue < 0.05:\n",
    "        bad_cnt_original += 1\n",
    "    \n",
    "    # Тест с CUPED\n",
    "    if stats.ttest_ind(control_cup_a, control_cup_b).pvalue < 0.05:\n",
    "        bad_cnt += 1\n",
    "    \n",
    "    # Диагностика в первой итерации\n",
    "    if i == 0:\n",
    "        print(f\"Theta value: {theta}\")\n",
    "        print(f\"Correlation between pre and post: {np.corrcoef(control_before_full[:samples_in_ab], np.concatenate([control_after_a, control_after_b]))[0,1]}\")\n",
    "        print(f\"Original variance A: {np.var(control_after_a)}\")\n",
    "        print(f\"Original variance B: {np.var(control_after_b)}\")\n",
    "        print(f\"CUPED variance A: {np.var(control_cup_a)}\")\n",
    "        print(f\"CUPED variance B: {np.var(control_cup_b)}\")\n",
    "        print(f\"Variance reduction ratio: {np.var(control_cup_a)/np.var(control_after_a):.4f}\")\n",
    "\n",
    "print(f\"Стат значимая разница без CUPED есть в {round(bad_cnt_original / N, 4) * 100}% случаев;\")\n",
    "print(f\"Стат значимая разница с CUPED есть в {round(bad_cnt / N, 4) * 100}% случаев;\")"
   ]
  },
  {
   "cell_type": "markdown",
   "id": "67c0382d",
   "metadata": {},
   "source": [
    "Результат получился уже совсем другой. Опишите свои мысли по поводу того, из-за чего возникает такая разница:\n",
    "\n"
   ]
  },
  {
   "cell_type": "markdown",
   "id": "3c2a0409",
   "metadata": {},
   "source": [
    "Далее проделаем такой же эксперимент при наличии реального смещения среднего значения и посмотрим на результаты с CUPED и без."
   ]
  },
  {
   "cell_type": "code",
   "execution_count": 34,
   "id": "e78af510",
   "metadata": {},
   "outputs": [
    {
     "name": "stderr",
     "output_type": "stream",
     "text": [
      "  0%|          | 17/10000 [00:00<01:00, 166.26it/s]"
     ]
    },
    {
     "name": "stdout",
     "output_type": "stream",
     "text": [
      "Theta value: 0.9897047999546948\n",
      "Correlation between pre and post: 0.9641272486080413\n",
      "Original variance A: 385.4364497542697\n",
      "Original variance B: 421.3221023889044\n",
      "CUPED variance A: 25.91472094144322\n",
      "CUPED variance B: 26.41885440085403\n",
      "Variance reduction ratio: 0.07\n",
      "Mean difference before CUPED: 2.8044214422157268\n",
      "Mean difference after CUPED: 3.094123899727606\n"
     ]
    },
    {
     "name": "stderr",
     "output_type": "stream",
     "text": [
      "100%|██████████| 10000/10000 [00:54<00:00, 184.13it/s]"
     ]
    },
    {
     "name": "stdout",
     "output_type": "stream",
     "text": [
      "Стат значимая разница есть в 90.53% случаев; при использовании CUPED -- в 100.0% случаев\n"
     ]
    },
    {
     "name": "stderr",
     "output_type": "stream",
     "text": [
      "\n"
     ]
    }
   ],
   "source": [
    "bad_cnt = 0\n",
    "bad_cnt_cuped = 0\n",
    "\n",
    "N = 10000\n",
    "samples_in_ab = 2000  # Обязательно определить до использования\n",
    "\n",
    "for i in tqdm(range(N)):\n",
    "    # Шаг 1: Генерируем базовый уровень для каждого пользователя\n",
    "    user_base_metrics = stats.norm(loc=100, scale=20).rvs(samples_in_ab)\n",
    "    \n",
    "    # Шаг 2: Разделяем на группы A и B\n",
    "    indexes_to_take_a = np.random.choice(range(samples_in_ab), samples_in_ab // 2, False)\n",
    "    indexes_to_take_b = [x for x in range(samples_in_ab) if x not in indexes_to_take_a]\n",
    "    \n",
    "    # Шаг 3: Pre-эксперимент значения (просто базовый уровень)\n",
    "    pre_a = user_base_metrics[indexes_to_take_a]\n",
    "    pre_b = user_base_metrics[indexes_to_take_b]\n",
    "    \n",
    "    # Шаг 4: Post-эксперимент значения (базовый уровень + эффект + шум)\n",
    "    # Ключевой момент: маленький шум для высокой корреляции\n",
    "    post_a = pre_a + stats.norm(loc=0, scale=5).rvs(len(pre_a))\n",
    "    post_b = pre_b + stats.norm(loc=3, scale=5).rvs(len(pre_b))  # Эффект = 3\n",
    "    \n",
    "    # Шаг 5: Вычисляем CUPED\n",
    "    # Используем все данные для оценки theta\n",
    "    all_pre = np.concatenate([pre_a, pre_b])\n",
    "    all_post = np.concatenate([post_a, post_b])\n",
    "    \n",
    "    # Формула CUPED\n",
    "    theta = np.cov(all_post, all_pre)[0,1] / np.var(all_pre)\n",
    "    \n",
    "    # Применяем CUPED к обеим группам\n",
    "    cuped_a = post_a - theta * (pre_a - all_pre.mean())\n",
    "    cuped_b = post_b - theta * (pre_b - all_pre.mean())\n",
    "    \n",
    "    # Шаг 6: Проверяем мощность обычного t-теста\n",
    "    if stats.ttest_ind(post_a, post_b).pvalue < 0.05:\n",
    "        bad_cnt += 1\n",
    "        \n",
    "    # Шаг 7: Проверяем мощность CUPED t-теста\n",
    "    if stats.ttest_ind(cuped_a, cuped_b).pvalue < 0.05:\n",
    "        bad_cnt_cuped += 1\n",
    "    \n",
    "    # Диагностика для первой итерации\n",
    "    if i == 0:\n",
    "        print(f\"Theta value: {theta}\")\n",
    "        print(f\"Correlation between pre and post: {np.corrcoef(all_pre, all_post)[0,1]}\")\n",
    "        print(f\"Original variance A: {np.var(post_a)}\")\n",
    "        print(f\"Original variance B: {np.var(post_b)}\")\n",
    "        print(f\"CUPED variance A: {np.var(cuped_a)}\")\n",
    "        print(f\"CUPED variance B: {np.var(cuped_b)}\")\n",
    "        print(f\"Variance reduction ratio: {np.var(cuped_a)/np.var(post_a):.2f}\")\n",
    "        print(f\"Mean difference before CUPED: {np.mean(post_b) - np.mean(post_a)}\")\n",
    "        print(f\"Mean difference after CUPED: {np.mean(cuped_b) - np.mean(cuped_a)}\")\n",
    "\n",
    "print(f\"Стат значимая разница есть в {round(bad_cnt / N, 4) * 100}% случаев; при использовании CUPED -- в {round(bad_cnt_cuped / N, 4) * 100}% случаев\")"
   ]
  },
  {
   "cell_type": "markdown",
   "id": "34c9e314",
   "metadata": {},
   "source": [
    "### Задание 4. Методы снижения дисперсии (2 балла)\n",
    "\n",
    "В этой части задания вам нужно применить методы снижения дисперсии с лекций, чтобы провести более точные тесты по данным из файла.\n",
    "\n",
    "Данные представляют собой значение какой-то метрики для трех возрастных групп пользователей. Столбец group отвечает за группу, в которой находятся пользователи: \n",
    "- `None` - пользователь не участвует в АБ тесте, \n",
    "- `*_before_i` - соответствующая группа до начала теста, \n",
    "- `*_after_i` - группа после начала эксперимента\n",
    "\n",
    "Чем больше i, тем позже было сделано наблюдение. \n",
    "\n",
    "Cчитайте, что юзеры всегда идут в одном порядке в группах. То есть `data[data.group == 'control_before_i']`\n",
    "дает юзеров в той же последовательности, что `data[data.group == 'control_after_i']` для всех i.  Аналогичное верно для тритмента.\n",
    "\n",
    "\n",
    "#### Что надо сделать:\n",
    "1. Напишите тест Стьюдента самостоятельно - то есть вы должны сами вычислить тестовую статистику, а затем используя квантильную функцию определить p-value. Квантили можно брать из готовых библиотек.\n",
    "\n",
    "2. Реализуйте пост-стратификацию и CUPED. \n",
    "\n",
    "3. Проведите тесты между `control_before_i` и `treatment_before_i` снчала без применения пост-стратификации и CUPED, а затем с ними. Без применения каких-либо методов такой тест покажет p-value около $0.05$ только при i == 5. Ваша задача применить методы уменьшения дисперсии, чтобы с помощью теста Стьюдента можно было обнаружить отличие на уровне значимости $0.05$\n",
    "\n",
    "4. Опишите свои результаты."
   ]
  },
  {
   "cell_type": "code",
   "execution_count": 23,
   "id": "b7964e23",
   "metadata": {},
   "outputs": [],
   "source": [
    "data = pd.read_csv(\"data_ab.csv\")"
   ]
  },
  {
   "cell_type": "code",
   "execution_count": 24,
   "id": "5ccd6e69",
   "metadata": {},
   "outputs": [
    {
     "data": {
      "text/html": [
       "<div>\n",
       "<style scoped>\n",
       "    .dataframe tbody tr th:only-of-type {\n",
       "        vertical-align: middle;\n",
       "    }\n",
       "\n",
       "    .dataframe tbody tr th {\n",
       "        vertical-align: top;\n",
       "    }\n",
       "\n",
       "    .dataframe thead th {\n",
       "        text-align: right;\n",
       "    }\n",
       "</style>\n",
       "<table border=\"1\" class=\"dataframe\">\n",
       "  <thead>\n",
       "    <tr style=\"text-align: right;\">\n",
       "      <th></th>\n",
       "      <th>age</th>\n",
       "      <th>metric</th>\n",
       "      <th>group</th>\n",
       "    </tr>\n",
       "  </thead>\n",
       "  <tbody>\n",
       "    <tr>\n",
       "      <th>0</th>\n",
       "      <td>young</td>\n",
       "      <td>11309.036916</td>\n",
       "      <td>treatment_before</td>\n",
       "    </tr>\n",
       "    <tr>\n",
       "      <th>1</th>\n",
       "      <td>young</td>\n",
       "      <td>8496.554679</td>\n",
       "      <td>control_before</td>\n",
       "    </tr>\n",
       "    <tr>\n",
       "      <th>2</th>\n",
       "      <td>young</td>\n",
       "      <td>11891.862586</td>\n",
       "      <td>control_before</td>\n",
       "    </tr>\n",
       "    <tr>\n",
       "      <th>3</th>\n",
       "      <td>young</td>\n",
       "      <td>9229.445011</td>\n",
       "      <td>treatment_before</td>\n",
       "    </tr>\n",
       "    <tr>\n",
       "      <th>4</th>\n",
       "      <td>young</td>\n",
       "      <td>10410.961279</td>\n",
       "      <td>control_before</td>\n",
       "    </tr>\n",
       "  </tbody>\n",
       "</table>\n",
       "</div>"
      ],
      "text/plain": [
       "     age        metric             group\n",
       "0  young  11309.036916  treatment_before\n",
       "1  young   8496.554679    control_before\n",
       "2  young  11891.862586    control_before\n",
       "3  young   9229.445011  treatment_before\n",
       "4  young  10410.961279    control_before"
      ]
     },
     "execution_count": 24,
     "metadata": {},
     "output_type": "execute_result"
    }
   ],
   "source": [
    "data.head()"
   ]
  },
  {
   "cell_type": "markdown",
   "id": "d330acf2",
   "metadata": {},
   "source": [
    "### Задание 5. Линеаризация + CUPED (2.5 балла)\n",
    "\n",
    "1. В файле `duration_aa.csv` содержатся данные для АА-теста. Проверьте гипотезу о равенстве средних длительностей визита с помощью линеаризации, постройте распределение p-value.\n",
    "\n",
    "2. Мы поменяли верстку нашего сайта и запустили АБ-тест, чтобы выяснить, увеличилась ли средняя продолжительность визита при новом дизайне. Результаты теста лежат в файле `duration_ab.csv`. С помощью линеаризованной метрики проверьте, есть ли разница в средней длительности визита между контрольной и тестовой группами.\n",
    "\n",
    "3. Примените CUPED и снова проведите АБ-тест. Что произошло с p-value? Почему?\n",
    "\n",
    "В каждом пункте необходимо визуализировать распределение p-value и сонаправленность линеаризованной разности метрик и разности ratio-метрик."
   ]
  }
 ],
 "metadata": {
  "kernelspec": {
   "display_name": "venv",
   "language": "python",
   "name": "python3"
  },
  "language_info": {
   "codemirror_mode": {
    "name": "ipython",
    "version": 3
   },
   "file_extension": ".py",
   "mimetype": "text/x-python",
   "name": "python",
   "nbconvert_exporter": "python",
   "pygments_lexer": "ipython3",
   "version": "3.11.4"
  }
 },
 "nbformat": 4,
 "nbformat_minor": 5
}
