{
 "cells": [
  {
   "cell_type": "markdown",
   "metadata": {},
   "source": [
    "# Задание 2: Анализ времени засыпания\n",
    "\n",
    "В данном ноутбуке мы проанализируем время засыпания человека и найдем:\n",
    "1. Время, после которого человек спит с вероятностью 0.9\n",
    "2. Стандартное отклонение этой оценки"
   ]
  },
  {
   "cell_type": "code",
   "execution_count": 5,
   "metadata": {},
   "outputs": [],
   "source": [
    "import pandas as pd\n",
    "import numpy as np\n",
    "from datetime import datetime, time\n",
    "import matplotlib.pyplot as plt\n",
    "import seaborn as sns\n",
    "from scipy import stats"
   ]
  },
  {
   "cell_type": "code",
   "execution_count": 6,
   "metadata": {},
   "outputs": [
    {
     "name": "stdout",
     "output_type": "stream",
     "text": [
      "Первые несколько строк данных:\n"
     ]
    },
    {
     "data": {
      "text/html": [
       "<div>\n",
       "<style scoped>\n",
       "    .dataframe tbody tr th:only-of-type {\n",
       "        vertical-align: middle;\n",
       "    }\n",
       "\n",
       "    .dataframe tbody tr th {\n",
       "        vertical-align: top;\n",
       "    }\n",
       "\n",
       "    .dataframe thead th {\n",
       "        text-align: right;\n",
       "    }\n",
       "</style>\n",
       "<table border=\"1\" class=\"dataframe\">\n",
       "  <thead>\n",
       "    <tr style=\"text-align: right;\">\n",
       "      <th></th>\n",
       "      <th>Unnamed: 0</th>\n",
       "      <th>indicator</th>\n",
       "      <th>time_offset</th>\n",
       "    </tr>\n",
       "  </thead>\n",
       "  <tbody>\n",
       "    <tr>\n",
       "      <th>0</th>\n",
       "      <td>2017-12-01 21:00:00</td>\n",
       "      <td>0</td>\n",
       "      <td>-60</td>\n",
       "    </tr>\n",
       "    <tr>\n",
       "      <th>1</th>\n",
       "      <td>2017-12-01 21:01:00</td>\n",
       "      <td>0</td>\n",
       "      <td>-59</td>\n",
       "    </tr>\n",
       "    <tr>\n",
       "      <th>2</th>\n",
       "      <td>2017-12-01 21:02:00</td>\n",
       "      <td>0</td>\n",
       "      <td>-58</td>\n",
       "    </tr>\n",
       "    <tr>\n",
       "      <th>3</th>\n",
       "      <td>2017-12-01 21:03:00</td>\n",
       "      <td>0</td>\n",
       "      <td>-57</td>\n",
       "    </tr>\n",
       "    <tr>\n",
       "      <th>4</th>\n",
       "      <td>2017-12-01 21:04:00</td>\n",
       "      <td>0</td>\n",
       "      <td>-56</td>\n",
       "    </tr>\n",
       "  </tbody>\n",
       "</table>\n",
       "</div>"
      ],
      "text/plain": [
       "            Unnamed: 0  indicator  time_offset\n",
       "0  2017-12-01 21:00:00          0          -60\n",
       "1  2017-12-01 21:01:00          0          -59\n",
       "2  2017-12-01 21:02:00          0          -58\n",
       "3  2017-12-01 21:03:00          0          -57\n",
       "4  2017-12-01 21:04:00          0          -56"
      ]
     },
     "metadata": {},
     "output_type": "display_data"
    },
    {
     "name": "stdout",
     "output_type": "stream",
     "text": [
      "\n",
      "Описательная статистика:\n"
     ]
    },
    {
     "data": {
      "text/html": [
       "<div>\n",
       "<style scoped>\n",
       "    .dataframe tbody tr th:only-of-type {\n",
       "        vertical-align: middle;\n",
       "    }\n",
       "\n",
       "    .dataframe tbody tr th {\n",
       "        vertical-align: top;\n",
       "    }\n",
       "\n",
       "    .dataframe thead th {\n",
       "        text-align: right;\n",
       "    }\n",
       "</style>\n",
       "<table border=\"1\" class=\"dataframe\">\n",
       "  <thead>\n",
       "    <tr style=\"text-align: right;\">\n",
       "      <th></th>\n",
       "      <th>indicator</th>\n",
       "      <th>time_offset</th>\n",
       "    </tr>\n",
       "  </thead>\n",
       "  <tbody>\n",
       "    <tr>\n",
       "      <th>count</th>\n",
       "      <td>11340.000000</td>\n",
       "      <td>11340.000000</td>\n",
       "    </tr>\n",
       "    <tr>\n",
       "      <th>mean</th>\n",
       "      <td>0.582892</td>\n",
       "      <td>29.500000</td>\n",
       "    </tr>\n",
       "    <tr>\n",
       "      <th>std</th>\n",
       "      <td>0.493103</td>\n",
       "      <td>51.963014</td>\n",
       "    </tr>\n",
       "    <tr>\n",
       "      <th>min</th>\n",
       "      <td>0.000000</td>\n",
       "      <td>-60.000000</td>\n",
       "    </tr>\n",
       "    <tr>\n",
       "      <th>25%</th>\n",
       "      <td>0.000000</td>\n",
       "      <td>-15.250000</td>\n",
       "    </tr>\n",
       "    <tr>\n",
       "      <th>50%</th>\n",
       "      <td>1.000000</td>\n",
       "      <td>29.500000</td>\n",
       "    </tr>\n",
       "    <tr>\n",
       "      <th>75%</th>\n",
       "      <td>1.000000</td>\n",
       "      <td>74.250000</td>\n",
       "    </tr>\n",
       "    <tr>\n",
       "      <th>max</th>\n",
       "      <td>1.000000</td>\n",
       "      <td>119.000000</td>\n",
       "    </tr>\n",
       "  </tbody>\n",
       "</table>\n",
       "</div>"
      ],
      "text/plain": [
       "          indicator   time_offset\n",
       "count  11340.000000  11340.000000\n",
       "mean       0.582892     29.500000\n",
       "std        0.493103     51.963014\n",
       "min        0.000000    -60.000000\n",
       "25%        0.000000    -15.250000\n",
       "50%        1.000000     29.500000\n",
       "75%        1.000000     74.250000\n",
       "max        1.000000    119.000000"
      ]
     },
     "metadata": {},
     "output_type": "display_data"
    }
   ],
   "source": [
    "# Загрузка данных\n",
    "df = pd.read_csv('sleep.csv')\n",
    "print(\"Первые несколько строк данных:\")\n",
    "display(df.head())\n",
    "print(\"\\nОписательная статистика:\")\n",
    "display(df.describe())"
   ]
  },
  {
   "cell_type": "code",
   "execution_count": 8,
   "metadata": {},
   "outputs": [
    {
     "name": "stdout",
     "output_type": "stream",
     "text": [
      "90-й перцентиль времени засыпания: 22:46\n"
     ]
    }
   ],
   "source": [
    "# Преобразуем временную метку в datetime\n",
    "df['timestamp'] = pd.to_datetime(df['Unnamed: 0'])\n",
    "\n",
    "# Группируем данные по дням и находим время засыпания для каждого дня\n",
    "# Время засыпания - это первый момент, когда indicator становится 1\n",
    "def find_sleep_time(group):\n",
    "    sleep_start = group[group['indicator'] == 1].iloc[0]\n",
    "    return sleep_start['timestamp'].time()\n",
    "\n",
    "# Группируем по дням и находим время засыпания\n",
    "daily_sleep = df.groupby(df['timestamp'].dt.date).apply(find_sleep_time)\n",
    "\n",
    "# Преобразуем время в минуты от начала дня\n",
    "def time_to_minutes(t):\n",
    "    return t.hour * 60 + t.minute\n",
    "\n",
    "sleep_minutes = daily_sleep.apply(time_to_minutes)\n",
    "\n",
    "# Находим 90-й перцентиль\n",
    "percentile_90 = np.percentile(sleep_minutes, 90)\n",
    "\n",
    "# Преобразуем обратно в время\n",
    "def minutes_to_time(minutes):\n",
    "    hours = int(minutes) // 60\n",
    "    mins = int(minutes) % 60\n",
    "    return f\"{hours:02d}:{mins:02d}\"\n",
    "\n",
    "time_90 = minutes_to_time(percentile_90)\n",
    "print(f\"90-й перцентиль времени засыпания: {time_90}\")"
   ]
  },
  {
   "cell_type": "code",
   "execution_count": 9,
   "metadata": {},
   "outputs": [
    {
     "data": {
      "image/png": "[encoded data removed]",
      "text/plain": [
       "<Figure size 1000x600 with 1 Axes>"
      ]
     },
     "metadata": {},
     "output_type": "display_data"
    }
   ],
   "source": [
    "# Визуализация распределения времени засыпания\n",
    "plt.figure(figsize=(10, 6))\n",
    "sns.histplot(data=sleep_minutes, bins=20)\n",
    "plt.axvline(x=percentile_90, color='r', linestyle='--', label=f'90-й перцентиль ({time_90})')\n",
    "plt.xlabel('Время (минуты от начала дня)')\n",
    "plt.ylabel('Частота')\n",
    "plt.title('Распределение времени засыпания')\n",
    "plt.legend()\n",
    "plt.show()"
   ]
  },
  {
   "cell_type": "code",
   "execution_count": 10,
   "metadata": {},
   "outputs": [
    {
     "name": "stdout",
     "output_type": "stream",
     "text": [
      "Стандартное отклонение оценки 90-го перцентиля: 3 минут\n"
     ]
    },
    {
     "data": {
      "image/png": "[encoded data removed]",
      "text/plain": [
       "<Figure size 1000x600 with 1 Axes>"
      ]
     },
     "metadata": {},
     "output_type": "display_data"
    }
   ],
   "source": [
    "# Оценка стандартного отклонения с помощью бутстрапа\n",
    "n_bootstrap = 10000\n",
    "bootstrap_percentiles = []\n",
    "\n",
    "for _ in range(n_bootstrap):\n",
    "    sample = np.random.choice(sleep_minutes, size=len(sleep_minutes), replace=True)\n",
    "    bootstrap_percentiles.append(np.percentile(sample, 90))\n",
    "\n",
    "std_error = np.std(bootstrap_percentiles)\n",
    "std_error_minutes = int(std_error)\n",
    "\n",
    "print(f\"Стандартное отклонение оценки 90-го перцентиля: {std_error_minutes} минут\")\n",
    "\n",
    "# Визуализация распределения бутстрап-оценок\n",
    "plt.figure(figsize=(10, 6))\n",
    "sns.histplot(bootstrap_percentiles, bins=30)\n",
    "plt.axvline(x=percentile_90, color='r', linestyle='--', label=f'Исходная оценка ({time_90})')\n",
    "plt.xlabel('90-й перцентиль (минуты)')\n",
    "plt.ylabel('Частота')\n",
    "plt.title('Распределение бутстрап-оценок 90-го перцентиля')\n",
    "plt.legend()\n",
    "plt.show()"
   ]
  },
  {
   "cell_type": "markdown",
   "metadata": {},
   "source": [
    "## Выводы\n",
    "\n",
    "1. На основе анализа данных мы определили, что с вероятностью 0.9 человек засыпает не позже 22:46. Это означает, что в 90% случаев человек уже спит к этому времени.\n",
    "\n",
    "2. Визуализация распределения времени засыпания показывает, что:\n",
    "   - Время засыпания имеет относительно компактное распределение\n",
    "   - Большинство наблюдений сконцентрировано вокруг одного пика\n",
    "   - Присутствует небольшая асимметрия распределения\n",
    "\n",
    "3. Для оценки точности нашего результата мы использовали метод бутстрапа с 10000 повторений, который показал стандартное отклонение оценки 90-го перцентиля. Это позволяет нам оценить надежность полученного результата.\n",
    "\n",
    "4. Практическая значимость:\n",
    "   - Полученное время (22:46) может быть использовано как надежный индикатор того, что человек уже спит\n",
    "   - Данный анализ может быть полезен для планирования режима дня и оценки качества сна\n"
   ]
  }
 ],
 "metadata": {
  "kernelspec": {
   "display_name": "venv",
   "language": "python",
   "name": "python3"
  },
  "language_info": {
   "codemirror_mode": {
    "name": "ipython",
    "version": 3
   },
   "file_extension": ".py",
   "mimetype": "text/x-python",
   "name": "python",
   "nbconvert_exporter": "python",
   "pygments_lexer": "ipython3",
   "version": "3.11.4"
  }
 },
 "nbformat": 4,
 "nbformat_minor": 4
}
