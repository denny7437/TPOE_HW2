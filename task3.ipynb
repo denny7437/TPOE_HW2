{
 "cells": [
  {
   "cell_type": "markdown",
   "id": "fc9a9f35",
   "metadata": {},
   "source": [
    "### Задание 3. CUPED (1 балла)\n",
    "\n",
    "Cгенерируем выборку из $1000$ сэмплов экспоненциального распределения - это будут значения нашей метрики для $1000$ пользователей"
   ]
  },
  {
   "cell_type": "code",
   "execution_count": 1,
   "id": "dbdcded4",
   "metadata": {},
   "outputs": [],
   "source": [
    "import numpy as np\n",
    "import pandas as pd\n",
    "from matplotlib import pyplot as plt\n",
    "from scipy import stats\n",
    "from tqdm import tqdm"
   ]
  },
  {
   "cell_type": "code",
   "execution_count": 2,
   "id": "e6eae979",
   "metadata": {},
   "outputs": [],
   "source": [
    "control_before = stats.expon(scale=1000).rvs(1000)"
   ]
  },
  {
   "cell_type": "code",
   "execution_count": 3,
   "id": "6ff3e743",
   "metadata": {},
   "outputs": [
    {
     "data": {
      "image/png": "[encoded data removed]",
      "text/plain": [
       "<Figure size 640x480 with 1 Axes>"
      ]
     },
     "metadata": {},
     "output_type": "display_data"
    }
   ],
   "source": [
    "plt.hist(control_before, bins=100)\n",
    "plt.show()"
   ]
  },
  {
   "cell_type": "markdown",
   "id": "bae626a4",
   "metadata": {},
   "source": [
    "Предположим, что при наблюдении метрики в дальнейшем добавляется какой-то нормальный шум"
   ]
  },
  {
   "cell_type": "code",
   "execution_count": 4,
   "id": "27979637",
   "metadata": {},
   "outputs": [],
   "source": [
    "control = control_before + stats.norm(loc=0, scale=100).rvs(1000)"
   ]
  },
  {
   "cell_type": "code",
   "execution_count": 5,
   "id": "b1703c2a",
   "metadata": {},
   "outputs": [
    {
     "data": {
      "image/png": "[encoded data removed]",
      "text/plain": [
       "<Figure size 640x480 with 1 Axes>"
      ]
     },
     "metadata": {},
     "output_type": "display_data"
    }
   ],
   "source": [
    "plt.hist(control, bins=100)\n",
    "plt.show()"
   ]
  },
  {
   "cell_type": "markdown",
   "id": "ac7a825b",
   "metadata": {},
   "source": [
    "Теперь построим доверительный интервал для среднего значения нашей метрики и посмотрим, появилась ли стат значимая разница. Проведем такой эксперимент $10000$ раз"
   ]
  },
  {
   "cell_type": "code",
   "execution_count": 6,
   "id": "97449272",
   "metadata": {},
   "outputs": [
    {
     "data": {
      "text/plain": [
       "array([ 945.88328241, 1065.0373431 ])"
      ]
     },
     "execution_count": 6,
     "metadata": {},
     "output_type": "execute_result"
    }
   ],
   "source": [
    "stats.norm(loc=control.mean(), scale=control.std() / np.sqrt(len(control))).ppf(\n",
    "    [0.025, 0.975]\n",
    ")"
   ]
  },
  {
   "cell_type": "code",
   "execution_count": 7,
   "id": "b9c3472b",
   "metadata": {},
   "outputs": [
    {
     "name": "stderr",
     "output_type": "stream",
     "text": [
      "100%|██████████| 10000/10000 [00:08<00:00, 1171.06it/s]"
     ]
    },
    {
     "name": "stdout",
     "output_type": "stream",
     "text": [
      "Стат значимая разница есть в 5.48% случаев;\n"
     ]
    },
    {
     "name": "stderr",
     "output_type": "stream",
     "text": [
      "\n"
     ]
    }
   ],
   "source": [
    "bad_cnt = 0\n",
    "\n",
    "N = 10000\n",
    "for i in tqdm(range(N)):\n",
    "    control_before = stats.expon(scale=1000).rvs(1000)\n",
    "    control = control_before + stats.norm(loc=0, scale=100).rvs(1000)\n",
    "    left_bound, right_bound = stats.norm(\n",
    "        loc=control.mean(), scale=control.std() / np.sqrt(len(control))\n",
    "    ).ppf([0.025, 0.975])\n",
    "\n",
    "    if left_bound > 1000 or right_bound < 1000:\n",
    "        bad_cnt += 1\n",
    "\n",
    "print(f\"Стат значимая разница есть в {round(bad_cnt / N, 4) * 100}% случаев;\")"
   ]
  },
  {
   "cell_type": "markdown",
   "id": "ee39dc74",
   "metadata": {},
   "source": [
    "Как мы видим такой тест ошибается в около $5$% случаев, так как находит разницу в среднем. Ваша задача построить CUPED-метрику основываясь на данной метрике и провести аналогичный тест"
   ]
  },
  {
   "cell_type": "code",
   "execution_count": 8,
   "id": "f5389957",
   "metadata": {},
   "outputs": [
    {
     "name": "stderr",
     "output_type": "stream",
     "text": [
      "100%|██████████| 10000/10000 [00:08<00:00, 1154.91it/s]"
     ]
    },
    {
     "name": "stdout",
     "output_type": "stream",
     "text": [
      "Стат значимая разница есть в  84.96000000000001% случаев;\n"
     ]
    },
    {
     "name": "stderr",
     "output_type": "stream",
     "text": [
      "\n"
     ]
    }
   ],
   "source": [
    "bad_cnt = 0\n",
    "\n",
    "N = 10000\n",
    "for i in tqdm(range(N)):\n",
    "    control_before = stats.expon(scale=1000).rvs(1000)\n",
    "    control = control_before + stats.norm(loc=0, scale=100).rvs(1000)\n",
    "\n",
    "    # Вычисляем CUPED\n",
    "    theta = np.cov(control, control_before)[0,1] / np.var(control_before)\n",
    "    cuped_metric = control - theta * (control_before - control_before.mean())\n",
    "    \n",
    "    mean = cuped_metric.mean()\n",
    "    std = cuped_metric.std() / np.sqrt(len(cuped_metric))\n",
    "    left_bound, right_bound = stats.norm(loc=mean, scale=std).ppf([0.025, 0.975])\n",
    "\n",
    "    if left_bound > 1000 or right_bound < 1000:\n",
    "        bad_cnt += 1\n",
    "\n",
    "print(f\"Стат значимая разница есть в  {round(bad_cnt / N, 4) * 100}% случаев;\")"
   ]
  },
  {
   "cell_type": "markdown",
   "id": "b81934f6",
   "metadata": {},
   "source": [
    "Результат должен получиться не очень хороший. Давайте теперь сделаем иначе: сгенерируем выборку из $10000$ значений, а затем выберем $2$ группы по $1000$ юзеров, которые будут нашими группами для теста. Опять добавим шум в обе группы аналогично тому, что показано в первом примере с теми же параметрами. Ваша задача вписать CUPED метрики используя знание обо всех $10000$ юзерах."
   ]
  },
  {
   "cell_type": "code",
   "execution_count": 9,
   "id": "bd70100a",
   "metadata": {},
   "outputs": [
    {
     "name": "stderr",
     "output_type": "stream",
     "text": [
      "  0%|          | 35/10000 [00:00<00:56, 175.31it/s]"
     ]
    },
    {
     "name": "stdout",
     "output_type": "stream",
     "text": [
      "Theta value: -0.005768761905903228\n",
      "Correlation between pre and post: -0.005763081968772461\n",
      "Original variance A: 995111.6348932093\n",
      "Original variance B: 968275.5789352196\n",
      "CUPED variance A: 1006617.1687867248\n",
      "CUPED variance B: 979472.1021095783\n",
      "Variance reduction ratio: 1.0116\n"
     ]
    },
    {
     "name": "stderr",
     "output_type": "stream",
     "text": [
      "100%|██████████| 10000/10000 [00:53<00:00, 186.80it/s]"
     ]
    },
    {
     "name": "stdout",
     "output_type": "stream",
     "text": [
      "Стат значимая разница без CUPED есть в 4.92% случаев;\n",
      "Стат значимая разница с CUPED есть в 4.92% случаев;\n"
     ]
    },
    {
     "name": "stderr",
     "output_type": "stream",
     "text": [
      "\n"
     ]
    }
   ],
   "source": [
    "bad_cnt = 0\n",
    "bad_cnt_original = 0\n",
    "\n",
    "N = 10000\n",
    "for i in tqdm(range(N)):\n",
    "    control_before_full = stats.expon(scale=1000).rvs(1000 * 10)\n",
    "    samples_in_ab = 2000\n",
    "    indexes_to_take_a = np.random.choice(\n",
    "        range(samples_in_ab), samples_in_ab // 2, False\n",
    "    )\n",
    "    indexes_to_take_b = [x for x in range(samples_in_ab) if x not in indexes_to_take_a]\n",
    "\n",
    "    control_before_a = control_before_full[indexes_to_take_a]\n",
    "    control_before_b = control_before_full[indexes_to_take_b]\n",
    "\n",
    "    # Уменьшаем масштаб шума для увеличения корреляции\n",
    "    control_after_a = control_before_a + stats.norm(loc=0, scale=20).rvs(\n",
    "        samples_in_ab // 2\n",
    "    )\n",
    "    control_after_b = control_before_b + stats.norm(loc=0, scale=20).rvs(\n",
    "        samples_in_ab // 2\n",
    "    )\n",
    "\n",
    "    # Вычисляем CUPED\n",
    "    theta = np.cov(np.concatenate([control_after_a, control_after_b]), \n",
    "                  control_before_full[:samples_in_ab])[0,1] / np.var(control_before_full[:samples_in_ab])\n",
    "    \n",
    "    control_cup_a = control_after_a - theta * (control_before_a - control_before_full[:samples_in_ab].mean())\n",
    "    control_cup_b = control_after_b - theta * (control_before_b - control_before_full[:samples_in_ab].mean())\n",
    "\n",
    "    # Тест без CUPED\n",
    "    if stats.ttest_ind(control_after_a, control_after_b).pvalue < 0.05:\n",
    "        bad_cnt_original += 1\n",
    "    \n",
    "    # Тест с CUPED\n",
    "    if stats.ttest_ind(control_cup_a, control_cup_b).pvalue < 0.05:\n",
    "        bad_cnt += 1\n",
    "    \n",
    "    # Диагностика в первой итерации\n",
    "    if i == 0:\n",
    "        print(f\"Theta value: {theta}\")\n",
    "        print(f\"Correlation between pre and post: {np.corrcoef(control_before_full[:samples_in_ab], np.concatenate([control_after_a, control_after_b]))[0,1]}\")\n",
    "        print(f\"Original variance A: {np.var(control_after_a)}\")\n",
    "        print(f\"Original variance B: {np.var(control_after_b)}\")\n",
    "        print(f\"CUPED variance A: {np.var(control_cup_a)}\")\n",
    "        print(f\"CUPED variance B: {np.var(control_cup_b)}\")\n",
    "        print(f\"Variance reduction ratio: {np.var(control_cup_a)/np.var(control_after_a):.4f}\")\n",
    "\n",
    "print(f\"Стат значимая разница без CUPED есть в {round(bad_cnt_original / N, 4) * 100}% случаев;\")\n",
    "print(f\"Стат значимая разница с CUPED есть в {round(bad_cnt / N, 4) * 100}% случаев;\")"
   ]
  },
  {
   "cell_type": "markdown",
   "id": "67c0382d",
   "metadata": {},
   "source": [
    "Результат получился уже совсем другой. Опишите свои мысли по поводу того, из-за чего возникает такая разница:\n",
    "\n"
   ]
  },
  {
   "cell_type": "markdown",
   "id": "3c2a0409",
   "metadata": {},
   "source": [
    "Далее проделаем такой же эксперимент при наличии реального смещения среднего значения и посмотрим на результаты с CUPED и без."
   ]
  },
  {
   "cell_type": "code",
   "execution_count": 10,
   "id": "e78af510",
   "metadata": {},
   "outputs": [
    {
     "name": "stderr",
     "output_type": "stream",
     "text": [
      "  0%|          | 36/10000 [00:00<00:55, 179.88it/s]"
     ]
    },
    {
     "name": "stdout",
     "output_type": "stream",
     "text": [
      "Theta value: 1.0000581909290447\n",
      "Correlation between pre and post: 0.9677675434253319\n",
      "Original variance A: 422.97905873068356\n",
      "Original variance B: 414.5128846033274\n",
      "CUPED variance A: 24.805425066358175\n",
      "CUPED variance B: 24.257366024968047\n",
      "Variance reduction ratio: 0.06\n",
      "Mean difference before CUPED: 3.223813092903555\n",
      "Mean difference after CUPED: 2.961670960756166\n"
     ]
    },
    {
     "name": "stderr",
     "output_type": "stream",
     "text": [
      "100%|██████████| 10000/10000 [00:51<00:00, 193.59it/s]"
     ]
    },
    {
     "name": "stdout",
     "output_type": "stream",
     "text": [
      "Стат значимая разница есть в 90.01% случаев; при использовании CUPED -- в 100.0% случаев\n"
     ]
    },
    {
     "name": "stderr",
     "output_type": "stream",
     "text": [
      "\n"
     ]
    }
   ],
   "source": [
    "bad_cnt = 0\n",
    "bad_cnt_cuped = 0\n",
    "\n",
    "N = 10000\n",
    "samples_in_ab = 2000  # Обязательно определить до использования\n",
    "\n",
    "for i in tqdm(range(N)):\n",
    "    # Шаг 1: Генерируем базовый уровень для каждого пользователя\n",
    "    user_base_metrics = stats.norm(loc=100, scale=20).rvs(samples_in_ab)\n",
    "    \n",
    "    # Шаг 2: Разделяем на группы A и B\n",
    "    indexes_to_take_a = np.random.choice(range(samples_in_ab), samples_in_ab // 2, False)\n",
    "    indexes_to_take_b = [x for x in range(samples_in_ab) if x not in indexes_to_take_a]\n",
    "    \n",
    "    # Шаг 3: Pre-эксперимент значения (просто базовый уровень)\n",
    "    pre_a = user_base_metrics[indexes_to_take_a]\n",
    "    pre_b = user_base_metrics[indexes_to_take_b]\n",
    "    \n",
    "    # Шаг 4: Post-эксперимент значения (базовый уровень + эффект + шум)\n",
    "    # Ключевой момент: маленький шум для высокой корреляции\n",
    "    post_a = pre_a + stats.norm(loc=0, scale=5).rvs(len(pre_a))\n",
    "    post_b = pre_b + stats.norm(loc=3, scale=5).rvs(len(pre_b))  # Эффект = 3\n",
    "    \n",
    "    # Шаг 5: Вычисляем CUPED\n",
    "    # Используем все данные для оценки theta\n",
    "    all_pre = np.concatenate([pre_a, pre_b])\n",
    "    all_post = np.concatenate([post_a, post_b])\n",
    "    \n",
    "    # Формула CUPED\n",
    "    theta = np.cov(all_post, all_pre)[0,1] / np.var(all_pre)\n",
    "    \n",
    "    # Применяем CUPED к обеим группам\n",
    "    cuped_a = post_a - theta * (pre_a - all_pre.mean())\n",
    "    cuped_b = post_b - theta * (pre_b - all_pre.mean())\n",
    "    \n",
    "    # Шаг 6: Проверяем мощность обычного t-теста\n",
    "    if stats.ttest_ind(post_a, post_b).pvalue < 0.05:\n",
    "        bad_cnt += 1\n",
    "        \n",
    "    # Шаг 7: Проверяем мощность CUPED t-теста\n",
    "    if stats.ttest_ind(cuped_a, cuped_b).pvalue < 0.05:\n",
    "        bad_cnt_cuped += 1\n",
    "    \n",
    "    # Диагностика для первой итерации\n",
    "    if i == 0:\n",
    "        print(f\"Theta value: {theta}\")\n",
    "        print(f\"Correlation between pre and post: {np.corrcoef(all_pre, all_post)[0,1]}\")\n",
    "        print(f\"Original variance A: {np.var(post_a)}\")\n",
    "        print(f\"Original variance B: {np.var(post_b)}\")\n",
    "        print(f\"CUPED variance A: {np.var(cuped_a)}\")\n",
    "        print(f\"CUPED variance B: {np.var(cuped_b)}\")\n",
    "        print(f\"Variance reduction ratio: {np.var(cuped_a)/np.var(post_a):.2f}\")\n",
    "        print(f\"Mean difference before CUPED: {np.mean(post_b) - np.mean(post_a)}\")\n",
    "        print(f\"Mean difference after CUPED: {np.mean(cuped_b) - np.mean(cuped_a)}\")\n",
    "\n",
    "print(f\"Стат значимая разница есть в {round(bad_cnt / N, 4) * 100}% случаев; при использовании CUPED -- в {round(bad_cnt_cuped / N, 4) * 100}% случаев\")"
   ]
  }
 ],
 "metadata": {
  "kernelspec": {
   "display_name": "venv",
   "language": "python",
   "name": "python3"
  },
  "language_info": {
   "codemirror_mode": {
    "name": "ipython",
    "version": 3
   },
   "file_extension": ".py",
   "mimetype": "text/x-python",
   "name": "python",
   "nbconvert_exporter": "python",
   "pygments_lexer": "ipython3",
   "version": "3.11.4"
  }
 },
 "nbformat": 4,
 "nbformat_minor": 5
}
